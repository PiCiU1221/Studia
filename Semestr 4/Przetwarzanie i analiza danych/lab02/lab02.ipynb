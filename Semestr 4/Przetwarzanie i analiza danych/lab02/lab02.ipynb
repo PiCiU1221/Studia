{
 "cells": [
  {
   "cell_type": "markdown",
   "metadata": {},
   "source": [
    "LAB 02<br>\n",
    "gr.220A<br>\n",
    "pp53828<br>\n",
    "Piotr Pietrusewicz<br>"
   ]
  },
  {
   "cell_type": "code",
   "execution_count": 5,
   "metadata": {},
   "outputs": [],
   "source": [
    "import pandas as pd\n",
    "import numpy as np\n",
    "import scipy.stats as scs\n",
    "import matplotlib.pyplot as plt"
   ]
  },
  {
   "cell_type": "markdown",
   "metadata": {},
   "source": [
    "Manipulowanie danymi<br>\n",
    "Ćw. 1"
   ]
  },
  {
   "cell_type": "code",
   "execution_count": 6,
   "metadata": {},
   "outputs": [
    {
     "name": "stdout",
     "output_type": "stream",
     "text": [
      "                   A         B         C\n",
      "data                                    \n",
      "2020-03-01  0.483015  0.301104 -0.222081\n",
      "2020-03-02  0.239869  0.726243  0.626536\n",
      "2020-03-03  2.251820 -0.493693  0.241880\n",
      "2020-03-04  0.060371  0.893649  0.379729\n",
      "2020-03-05 -0.278429  0.891937  0.312997\n"
     ]
    }
   ],
   "source": [
    "df = pd.DataFrame({\n",
    "    'A': np.random.normal(0,1,size=5),\n",
    "    'B': np.random.normal(0,1,size=5),\n",
    "    'C': np.random.normal(0,1,size=5)\n",
    "})\n",
    "\n",
    "df.index = pd.date_range(start='2020-03-01', periods=5)\n",
    "df.index.name = 'data'\n",
    "\n",
    "print(df)"
   ]
  },
  {
   "cell_type": "markdown",
   "metadata": {},
   "source": [
    "Ćw. 2"
   ]
  },
  {
   "cell_type": "code",
   "execution_count": 7,
   "metadata": {},
   "outputs": [
    {
     "name": "stdout",
     "output_type": "stream",
     "text": [
      "           A         B         C\n",
      "id                              \n",
      "0   0.547710  1.980156 -0.282606\n",
      "1  -1.436265 -1.615140 -0.531973\n",
      "2  -0.117301  0.235936 -0.276067\n",
      "3  -1.021089 -1.006461 -0.389014\n",
      "4   1.090428 -0.016294 -0.158907\n",
      "5  -0.878208 -0.072454 -1.453348\n",
      "6   0.688571 -1.659815 -0.594792\n",
      "7  -0.562512  0.506434 -0.326358\n",
      "8   0.462724 -0.461673  0.892782\n",
      "9  -0.829344 -2.396826  0.177704\n",
      "10 -1.628662 -0.325995 -0.904593\n",
      "11 -0.851395 -0.741797  0.766164\n",
      "12 -0.736064 -0.529758  0.050924\n",
      "13 -2.447198 -0.714179 -3.193371\n",
      "14 -0.668347  1.206686  1.556685\n",
      "15  1.120387 -2.719855  2.479674\n",
      "16 -0.769295  1.186324 -1.035679\n",
      "17  0.220996  0.360307  1.870194\n",
      "18  1.640020  0.196620  0.931552\n",
      "19  0.143141 -0.929221  1.924498\n"
     ]
    }
   ],
   "source": [
    "df = pd.DataFrame({\n",
    "    'A': np.random.normal(size=20),\n",
    "    'B': np.random.normal(size=20),\n",
    "    'C': np.random.normal(size=20)\n",
    "})\n",
    "\n",
    "df.index.name ='id'\n",
    "\n",
    "print(df)"
   ]
  },
  {
   "cell_type": "code",
   "execution_count": 8,
   "metadata": {},
   "outputs": [
    {
     "name": "stdout",
     "output_type": "stream",
     "text": [
      "           A         B         C\n",
      "id                              \n",
      "0   0.547710  1.980156 -0.282606\n",
      "1  -1.436265 -1.615140 -0.531973\n",
      "2  -0.117301  0.235936 -0.276067\n"
     ]
    }
   ],
   "source": [
    "print(df.head(3))"
   ]
  },
  {
   "cell_type": "code",
   "execution_count": 9,
   "metadata": {},
   "outputs": [
    {
     "name": "stdout",
     "output_type": "stream",
     "text": [
      "           A         B         C\n",
      "id                              \n",
      "17  0.220996  0.360307  1.870194\n",
      "18  1.640020  0.196620  0.931552\n",
      "19  0.143141 -0.929221  1.924498\n"
     ]
    }
   ],
   "source": [
    "print(df.tail(3))"
   ]
  },
  {
   "cell_type": "code",
   "execution_count": 10,
   "metadata": {},
   "outputs": [
    {
     "name": "stdout",
     "output_type": "stream",
     "text": [
      "id\n"
     ]
    }
   ],
   "source": [
    "print(df.index.name)"
   ]
  },
  {
   "cell_type": "code",
   "execution_count": 11,
   "metadata": {},
   "outputs": [
    {
     "name": "stdout",
     "output_type": "stream",
     "text": [
      "['A', 'B', 'C']\n"
     ]
    }
   ],
   "source": [
    "print(df.columns.to_list())"
   ]
  },
  {
   "cell_type": "code",
   "execution_count": 12,
   "metadata": {},
   "outputs": [
    {
     "name": "stdout",
     "output_type": "stream",
     "text": [
      " 0.547710  1.980156 -0.282606\n",
      "-1.436265 -1.615140 -0.531973\n",
      "-0.117301  0.235936 -0.276067\n",
      "-1.021089 -1.006461 -0.389014\n",
      " 1.090428 -0.016294 -0.158907\n",
      "-0.878208 -0.072454 -1.453348\n",
      " 0.688571 -1.659815 -0.594792\n",
      "-0.562512  0.506434 -0.326358\n",
      " 0.462724 -0.461673  0.892782\n",
      "-0.829344 -2.396826  0.177704\n",
      "-1.628662 -0.325995 -0.904593\n",
      "-0.851395 -0.741797  0.766164\n",
      "-0.736064 -0.529758  0.050924\n",
      "-2.447198 -0.714179 -3.193371\n",
      "-0.668347  1.206686  1.556685\n",
      " 1.120387 -2.719855  2.479674\n",
      "-0.769295  1.186324 -1.035679\n",
      " 0.220996  0.360307  1.870194\n",
      " 1.640020  0.196620  0.931552\n",
      " 0.143141 -0.929221  1.924498\n"
     ]
    }
   ],
   "source": [
    "print(df.to_string(header=False, index=False))"
   ]
  },
  {
   "cell_type": "code",
   "execution_count": 13,
   "metadata": {},
   "outputs": [
    {
     "name": "stdout",
     "output_type": "stream",
     "text": [
      "           A         B         C\n",
      "id                              \n",
      "19  0.143141 -0.929221  1.924498\n",
      "9  -0.829344 -2.396826  0.177704\n",
      "5  -0.878208 -0.072454 -1.453348\n",
      "13 -2.447198 -0.714179 -3.193371\n",
      "14 -0.668347  1.206686  1.556685\n"
     ]
    }
   ],
   "source": [
    "print(df.sample(5))"
   ]
  },
  {
   "cell_type": "code",
   "execution_count": 14,
   "metadata": {},
   "outputs": [
    {
     "name": "stdout",
     "output_type": "stream",
     "text": [
      "[ 0.5477098  -1.43626536 -0.11730119 -1.02108887  1.09042797 -0.87820766\n",
      "  0.68857135 -0.56251174  0.46272388 -0.82934445 -1.62866246 -0.851395\n",
      " -0.73606382 -2.44719849 -0.66834695  1.1203872  -0.76929539  0.220996\n",
      "  1.64001989  0.14314061]\n",
      "[[ 0.5477098   1.98015596]\n",
      " [-1.43626536 -1.61514031]\n",
      " [-0.11730119  0.2359362 ]\n",
      " [-1.02108887 -1.00646092]\n",
      " [ 1.09042797 -0.01629427]\n",
      " [-0.87820766 -0.07245424]\n",
      " [ 0.68857135 -1.65981494]\n",
      " [-0.56251174  0.50643391]\n",
      " [ 0.46272388 -0.46167291]\n",
      " [-0.82934445 -2.39682644]\n",
      " [-1.62866246 -0.32599459]\n",
      " [-0.851395   -0.74179738]\n",
      " [-0.73606382 -0.52975841]\n",
      " [-2.44719849 -0.71417932]\n",
      " [-0.66834695  1.20668619]\n",
      " [ 1.1203872  -2.71985484]\n",
      " [-0.76929539  1.18632398]\n",
      " [ 0.220996    0.36030748]\n",
      " [ 1.64001989  0.19662022]\n",
      " [ 0.14314061 -0.92922145]]\n"
     ]
    }
   ],
   "source": [
    "print(df['A'].values)\n",
    "print(df[['A','B']].values)"
   ]
  },
  {
   "cell_type": "code",
   "execution_count": 15,
   "metadata": {},
   "outputs": [
    {
     "name": "stdout",
     "output_type": "stream",
     "text": [
      "           A         B\n",
      "id                    \n",
      "0   0.547710  1.980156\n",
      "1  -1.436265 -1.615140\n",
      "2  -0.117301  0.235936\n"
     ]
    }
   ],
   "source": [
    "print(df.iloc[0:3, [0, 1]])"
   ]
  },
  {
   "cell_type": "code",
   "execution_count": 16,
   "metadata": {},
   "outputs": [
    {
     "name": "stdout",
     "output_type": "stream",
     "text": [
      "A   -0.878208\n",
      "B   -0.072454\n",
      "C   -1.453348\n",
      "Name: 5, dtype: float64\n"
     ]
    }
   ],
   "source": [
    "print(df.iloc[5])"
   ]
  },
  {
   "cell_type": "code",
   "execution_count": 17,
   "metadata": {},
   "outputs": [
    {
     "name": "stdout",
     "output_type": "stream",
     "text": [
      "           B         C\n",
      "id                    \n",
      "0   1.980156 -0.282606\n",
      "5  -0.072454 -1.453348\n",
      "6  -1.659815 -0.594792\n",
      "7   0.506434 -0.326358\n"
     ]
    }
   ],
   "source": [
    "print(df.iloc[[0,5,6,7], [1, 2]])"
   ]
  },
  {
   "cell_type": "markdown",
   "metadata": {},
   "source": [
    "Ćw. 3"
   ]
  },
  {
   "cell_type": "code",
   "execution_count": 18,
   "metadata": {},
   "outputs": [
    {
     "name": "stdout",
     "output_type": "stream",
     "text": [
      "               A          B          C\n",
      "count  20.000000  20.000000  20.000000\n",
      "mean   -0.301585  -0.375850   0.075173\n",
      "std     1.031444   1.180726   1.322340\n",
      "min    -2.447198  -2.719855  -3.193371\n",
      "25%    -0.858098  -0.948531  -0.547678\n",
      "50%    -0.615429  -0.393834  -0.217487\n",
      "75%     0.483970   0.267029   0.902475\n",
      "max     1.640020   1.980156   2.479674\n"
     ]
    }
   ],
   "source": [
    "print(df.describe())"
   ]
  },
  {
   "cell_type": "code",
   "execution_count": 19,
   "metadata": {},
   "outputs": [
    {
     "name": "stdout",
     "output_type": "stream",
     "text": [
      "id   \n",
      "0   A    0.547710\n",
      "    B    1.980156\n",
      "2   B    0.235936\n",
      "4   A    1.090428\n",
      "6   A    0.688571\n",
      "7   B    0.506434\n",
      "8   A    0.462724\n",
      "    C    0.892782\n",
      "9   C    0.177704\n",
      "11  C    0.766164\n",
      "12  C    0.050924\n",
      "14  B    1.206686\n",
      "    C    1.556685\n",
      "15  A    1.120387\n",
      "    C    2.479674\n",
      "16  B    1.186324\n",
      "17  A    0.220996\n",
      "    B    0.360307\n",
      "    C    1.870194\n",
      "18  A    1.640020\n",
      "    B    0.196620\n",
      "    C    0.931552\n",
      "19  A    0.143141\n",
      "    C    1.924498\n",
      "dtype: float64\n"
     ]
    }
   ],
   "source": [
    "print(df[df > 0].stack())"
   ]
  },
  {
   "cell_type": "code",
   "execution_count": 20,
   "metadata": {},
   "outputs": [
    {
     "name": "stdout",
     "output_type": "stream",
     "text": [
      "id\n",
      "0     0.547710\n",
      "4     1.090428\n",
      "6     0.688571\n",
      "8     0.462724\n",
      "15    1.120387\n",
      "17    0.220996\n",
      "18    1.640020\n",
      "19    0.143141\n",
      "Name: A, dtype: float64\n"
     ]
    }
   ],
   "source": [
    "print(df[df['A'] > 0]['A'])"
   ]
  },
  {
   "cell_type": "code",
   "execution_count": 21,
   "metadata": {},
   "outputs": [
    {
     "name": "stdout",
     "output_type": "stream",
     "text": [
      "id\n",
      "0     0.748420\n",
      "1    -1.194460\n",
      "2    -0.052477\n",
      "3    -0.805521\n",
      "4     0.305075\n",
      "5    -0.801337\n",
      "6    -0.522012\n",
      "7    -0.127479\n",
      "8     0.297944\n",
      "9    -1.016156\n",
      "10   -0.953083\n",
      "11   -0.275676\n",
      "12   -0.404966\n",
      "13   -2.118249\n",
      "14    0.698341\n",
      "15    0.293402\n",
      "16   -0.206217\n",
      "17    0.817166\n",
      "18    0.922731\n",
      "19    0.379472\n",
      "dtype: float64\n"
     ]
    }
   ],
   "source": [
    "print(df.mean(axis=1))"
   ]
  },
  {
   "cell_type": "markdown",
   "metadata": {},
   "source": [
    "Ćw. 4"
   ]
  },
  {
   "cell_type": "code",
   "execution_count": 22,
   "metadata": {},
   "outputs": [
    {
     "name": "stdout",
     "output_type": "stream",
     "text": [
      "    0   1   2   3\n",
      "0  36  49  33  33\n",
      "1  11  40  92  37\n",
      "2  50   7  42  95\n",
      "3  24  43  67   1\n",
      "4  15  16  79  85\n",
      "5   6  61  81  52\n",
      "0  84  51  85  59\n",
      "1  47   3  93  94\n"
     ]
    }
   ],
   "source": [
    "arr1 = np.random.randint(0, 101, size=(6,4))\n",
    "arr2 = np.random.randint(0, 101, size=(2,4))\n",
    "\n",
    "df1 = pd.DataFrame(arr1)\n",
    "df2 = pd.DataFrame(arr2)\n",
    "\n",
    "df = pd.concat([df1, df2])\n",
    "\n",
    "print(df)"
   ]
  },
  {
   "cell_type": "code",
   "execution_count": 23,
   "metadata": {},
   "outputs": [
    {
     "name": "stdout",
     "output_type": "stream",
     "text": [
      "    0   1   2   3   4   5   0   1\n",
      "0  36  11  50  24  15   6  84  47\n",
      "1  49  40   7  43  16  61  51   3\n",
      "2  33  92  42  67  79  81  85  93\n",
      "3  33  37  95   1  85  52  59  94\n"
     ]
    }
   ],
   "source": [
    "print(np.transpose(df))"
   ]
  },
  {
   "cell_type": "markdown",
   "metadata": {},
   "source": [
    "Sortowanie"
   ]
  },
  {
   "cell_type": "code",
   "execution_count": 24,
   "metadata": {},
   "outputs": [
    {
     "name": "stdout",
     "output_type": "stream",
     "text": [
      "    x  y\n",
      "id      \n",
      "0   1  a\n",
      "1   2  b\n",
      "2   3  a\n",
      "3   4  b\n",
      "4   5  b\n"
     ]
    }
   ],
   "source": [
    "df = pd.DataFrame({\"x\": [1, 2, 3, 4, 5], \"y\": ['a', 'b', 'a', 'b', 'b']}, index=np.arange(5))\n",
    "\n",
    "df.index.name='id'\n",
    "\n",
    "print(df)"
   ]
  },
  {
   "cell_type": "code",
   "execution_count": 25,
   "metadata": {},
   "outputs": [
    {
     "name": "stdout",
     "output_type": "stream",
     "text": [
      "    x  y\n",
      "id      \n",
      "4   5  b\n",
      "3   4  b\n",
      "2   3  a\n",
      "1   2  b\n",
      "0   1  a\n"
     ]
    }
   ],
   "source": [
    "df_sorted_by_index = df.sort_index(ascending=False)\n",
    "\n",
    "print(df_sorted_by_index)"
   ]
  },
  {
   "cell_type": "code",
   "execution_count": 26,
   "metadata": {},
   "outputs": [
    {
     "name": "stdout",
     "output_type": "stream",
     "text": [
      "    x  y\n",
      "id      \n",
      "0   1  a\n",
      "2   3  a\n",
      "1   2  b\n",
      "3   4  b\n",
      "4   5  b\n"
     ]
    }
   ],
   "source": [
    "df_sorted_by_y = df.sort_values(by='y')\n",
    "\n",
    "print(df_sorted_by_y)"
   ]
  },
  {
   "cell_type": "markdown",
   "metadata": {},
   "source": [
    "Grupowanie danych"
   ]
  },
  {
   "cell_type": "code",
   "execution_count": 27,
   "metadata": {},
   "outputs": [
    {
     "name": "stdout",
     "output_type": "stream",
     "text": [
      "   Day   Fruit  Pound  Profit\n",
      "0  Mon   Apple     10      20\n",
      "1  Tue   Apple     15      30\n",
      "2  Mon  Banana     50      25\n",
      "3  Tue  Banana     40      20\n",
      "4  Mon   Apple      5      10\n"
     ]
    }
   ],
   "source": [
    "slownik ={'Day': ['Mon', 'Tue', 'Mon', 'Tue', 'Mon'], 'Fruit':\n",
    "['Apple', 'Apple', 'Banana', 'Banana', 'Apple'], 'Pound': [10,\n",
    "15, 50, 40, 5], 'Profit':[20, 30, 25, 20, 10]}\n",
    "df3 = pd.DataFrame(slownik)\n",
    "print(df3)"
   ]
  },
  {
   "cell_type": "code",
   "execution_count": 28,
   "metadata": {},
   "outputs": [
    {
     "name": "stdout",
     "output_type": "stream",
     "text": [
      "                Fruit  Pound  Profit\n",
      "Day                                 \n",
      "Mon  AppleBananaApple     65      55\n",
      "Tue       AppleBanana     55      50\n"
     ]
    }
   ],
   "source": [
    "print(df3.groupby('Day').sum())"
   ]
  },
  {
   "cell_type": "code",
   "execution_count": 29,
   "metadata": {},
   "outputs": [
    {
     "name": "stdout",
     "output_type": "stream",
     "text": [
      "            Pound  Profit\n",
      "Day Fruit                \n",
      "Mon Apple      15      30\n",
      "    Banana     50      25\n",
      "Tue Apple      15      30\n",
      "    Banana     40      20\n"
     ]
    }
   ],
   "source": [
    "print(df3.groupby(['Day','Fruit']).sum())"
   ]
  },
  {
   "cell_type": "markdown",
   "metadata": {},
   "source": [
    "Wypelnianie danych"
   ]
  },
  {
   "cell_type": "code",
   "execution_count": 30,
   "metadata": {},
   "outputs": [
    {
     "name": "stdout",
     "output_type": "stream",
     "text": [
      "           A         B         C\n",
      "id                              \n",
      "0   0.717027  1.155337 -0.680698\n",
      "1  -0.469712 -2.791927  1.827494\n",
      "2   0.629659  1.885943  0.217021\n",
      "3  -0.253754 -0.137793  0.492047\n",
      "4   0.199732  0.847798 -2.611460\n",
      "5   0.975406  1.273794  0.222997\n",
      "6  -1.436494  1.055202 -0.315687\n",
      "7   0.165227 -0.225244 -0.452443\n",
      "8   0.120311  0.048906 -0.165187\n",
      "9  -0.046599  0.661041 -1.074733\n",
      "10 -0.805068 -0.946944 -0.527308\n",
      "11 -1.006229  0.389559 -0.591943\n",
      "12 -1.898946  1.641914 -0.370610\n",
      "13  0.271506 -1.814678 -0.201965\n",
      "14  0.038867  0.920534 -0.644002\n",
      "15 -0.801336 -2.157796 -0.350477\n",
      "16  0.333296  0.089021  1.751289\n",
      "17 -0.813758 -1.748933  0.534249\n",
      "18  1.703004  0.302363  1.052401\n",
      "19 -1.184773 -1.155653  0.539149\n"
     ]
    }
   ],
   "source": [
    "df=pd.DataFrame(np.random.randn(20, 3), index=np.arange(20),\n",
    "columns=['A','B','C'])\n",
    "df.index.name='id'\n",
    "print(df)"
   ]
  },
  {
   "cell_type": "markdown",
   "metadata": {},
   "source": [
    "Wszystkim danym w kolumnie 'B' przypisujemy wartosc 1"
   ]
  },
  {
   "cell_type": "code",
   "execution_count": 31,
   "metadata": {},
   "outputs": [
    {
     "name": "stdout",
     "output_type": "stream",
     "text": [
      "           A  B         C\n",
      "id                       \n",
      "0   0.717027  1 -0.680698\n",
      "1  -0.469712  1  1.827494\n",
      "2   0.629659  1  0.217021\n",
      "3  -0.253754  1  0.492047\n",
      "4   0.199732  1 -2.611460\n",
      "5   0.975406  1  0.222997\n",
      "6  -1.436494  1 -0.315687\n",
      "7   0.165227  1 -0.452443\n",
      "8   0.120311  1 -0.165187\n",
      "9  -0.046599  1 -1.074733\n",
      "10 -0.805068  1 -0.527308\n",
      "11 -1.006229  1 -0.591943\n",
      "12 -1.898946  1 -0.370610\n",
      "13  0.271506  1 -0.201965\n",
      "14  0.038867  1 -0.644002\n",
      "15 -0.801336  1 -0.350477\n",
      "16  0.333296  1  1.751289\n",
      "17 -0.813758  1  0.534249\n",
      "18  1.703004  1  1.052401\n",
      "19 -1.184773  1  0.539149\n"
     ]
    }
   ],
   "source": [
    "df['B']=1\n",
    "print(df)"
   ]
  },
  {
   "cell_type": "markdown",
   "metadata": {},
   "source": [
    "Dla indeksu [1,2] w data frame przypisujemy wartosc 10"
   ]
  },
  {
   "cell_type": "code",
   "execution_count": 32,
   "metadata": {},
   "outputs": [
    {
     "name": "stdout",
     "output_type": "stream",
     "text": [
      "           A  B          C\n",
      "id                        \n",
      "0   0.717027  1  -0.680698\n",
      "1  -0.469712  1  10.000000\n",
      "2   0.629659  1   0.217021\n",
      "3  -0.253754  1   0.492047\n",
      "4   0.199732  1  -2.611460\n",
      "5   0.975406  1   0.222997\n",
      "6  -1.436494  1  -0.315687\n",
      "7   0.165227  1  -0.452443\n",
      "8   0.120311  1  -0.165187\n",
      "9  -0.046599  1  -1.074733\n",
      "10 -0.805068  1  -0.527308\n",
      "11 -1.006229  1  -0.591943\n",
      "12 -1.898946  1  -0.370610\n",
      "13  0.271506  1  -0.201965\n",
      "14  0.038867  1  -0.644002\n",
      "15 -0.801336  1  -0.350477\n",
      "16  0.333296  1   1.751289\n",
      "17 -0.813758  1   0.534249\n",
      "18  1.703004  1   1.052401\n",
      "19 -1.184773  1   0.539149\n"
     ]
    }
   ],
   "source": [
    "df.iloc[1,2]=10\n",
    "print(df)"
   ]
  },
  {
   "cell_type": "markdown",
   "metadata": {},
   "source": [
    "Dla kazdej ujemnej wartosci w data frame zmieniamy znak"
   ]
  },
  {
   "cell_type": "code",
   "execution_count": 33,
   "metadata": {},
   "outputs": [
    {
     "name": "stdout",
     "output_type": "stream",
     "text": [
      "           A  B          C\n",
      "id                        \n",
      "0   0.717027  1   0.680698\n",
      "1   0.469712  1  10.000000\n",
      "2   0.629659  1   0.217021\n",
      "3   0.253754  1   0.492047\n",
      "4   0.199732  1   2.611460\n",
      "5   0.975406  1   0.222997\n",
      "6   1.436494  1   0.315687\n",
      "7   0.165227  1   0.452443\n",
      "8   0.120311  1   0.165187\n",
      "9   0.046599  1   1.074733\n",
      "10  0.805068  1   0.527308\n",
      "11  1.006229  1   0.591943\n",
      "12  1.898946  1   0.370610\n",
      "13  0.271506  1   0.201965\n",
      "14  0.038867  1   0.644002\n",
      "15  0.801336  1   0.350477\n",
      "16  0.333296  1   1.751289\n",
      "17  0.813758  1   0.534249\n",
      "18  1.703004  1   1.052401\n",
      "19  1.184773  1   0.539149\n"
     ]
    }
   ],
   "source": [
    "df[df<0]=-df\n",
    "print(df)"
   ]
  },
  {
   "cell_type": "markdown",
   "metadata": {},
   "source": [
    "Uzupelnianie danych"
   ]
  },
  {
   "cell_type": "markdown",
   "metadata": {},
   "source": [
    "Dla danych o wierszu 0 i 3 w kolumnie 'B' ustawiamy wartosc Nan"
   ]
  },
  {
   "cell_type": "code",
   "execution_count": 34,
   "metadata": {},
   "outputs": [
    {
     "name": "stdout",
     "output_type": "stream",
     "text": [
      "           A    B          C\n",
      "id                          \n",
      "0   0.717027  NaN   0.680698\n",
      "1   0.469712  1.0  10.000000\n",
      "2   0.629659  1.0   0.217021\n",
      "3   0.253754  NaN   0.492047\n",
      "4   0.199732  1.0   2.611460\n",
      "5   0.975406  1.0   0.222997\n",
      "6   1.436494  1.0   0.315687\n",
      "7   0.165227  1.0   0.452443\n",
      "8   0.120311  1.0   0.165187\n",
      "9   0.046599  1.0   1.074733\n",
      "10  0.805068  1.0   0.527308\n",
      "11  1.006229  1.0   0.591943\n",
      "12  1.898946  1.0   0.370610\n",
      "13  0.271506  1.0   0.201965\n",
      "14  0.038867  1.0   0.644002\n",
      "15  0.801336  1.0   0.350477\n",
      "16  0.333296  1.0   1.751289\n",
      "17  0.813758  1.0   0.534249\n",
      "18  1.703004  1.0   1.052401\n",
      "19  1.184773  1.0   0.539149\n"
     ]
    }
   ],
   "source": [
    "df.iloc[[0, 3], 1] = np.nan\n",
    "print(df)"
   ]
  },
  {
   "cell_type": "markdown",
   "metadata": {},
   "source": [
    "Wpisujemy w miejsca pol Nan wartosc 0"
   ]
  },
  {
   "cell_type": "code",
   "execution_count": 35,
   "metadata": {},
   "outputs": [
    {
     "name": "stdout",
     "output_type": "stream",
     "text": [
      "           A    B          C\n",
      "id                          \n",
      "0   0.717027  0.0   0.680698\n",
      "1   0.469712  1.0  10.000000\n",
      "2   0.629659  1.0   0.217021\n",
      "3   0.253754  0.0   0.492047\n",
      "4   0.199732  1.0   2.611460\n",
      "5   0.975406  1.0   0.222997\n",
      "6   1.436494  1.0   0.315687\n",
      "7   0.165227  1.0   0.452443\n",
      "8   0.120311  1.0   0.165187\n",
      "9   0.046599  1.0   1.074733\n",
      "10  0.805068  1.0   0.527308\n",
      "11  1.006229  1.0   0.591943\n",
      "12  1.898946  1.0   0.370610\n",
      "13  0.271506  1.0   0.201965\n",
      "14  0.038867  1.0   0.644002\n",
      "15  0.801336  1.0   0.350477\n",
      "16  0.333296  1.0   1.751289\n",
      "17  0.813758  1.0   0.534249\n",
      "18  1.703004  1.0   1.052401\n",
      "19  1.184773  1.0   0.539149\n"
     ]
    }
   ],
   "source": [
    "df.fillna(0, inplace=True)\n",
    "print(df)"
   ]
  },
  {
   "cell_type": "markdown",
   "metadata": {},
   "source": [
    "Zamieniamy Nan na wartosc -9999"
   ]
  },
  {
   "cell_type": "code",
   "execution_count": 36,
   "metadata": {},
   "outputs": [
    {
     "name": "stdout",
     "output_type": "stream",
     "text": [
      "           A       B          C\n",
      "id                             \n",
      "0   0.717027 -9999.0   0.680698\n",
      "1   0.469712     1.0  10.000000\n",
      "2   0.629659     1.0   0.217021\n",
      "3   0.253754 -9999.0   0.492047\n",
      "4   0.199732     1.0   2.611460\n",
      "5   0.975406     1.0   0.222997\n",
      "6   1.436494     1.0   0.315687\n",
      "7   0.165227     1.0   0.452443\n",
      "8   0.120311     1.0   0.165187\n",
      "9   0.046599     1.0   1.074733\n",
      "10  0.805068     1.0   0.527308\n",
      "11  1.006229     1.0   0.591943\n",
      "12  1.898946     1.0   0.370610\n",
      "13  0.271506     1.0   0.201965\n",
      "14  0.038867     1.0   0.644002\n",
      "15  0.801336     1.0   0.350477\n",
      "16  0.333296     1.0   1.751289\n",
      "17  0.813758     1.0   0.534249\n",
      "18  1.703004     1.0   1.052401\n",
      "19  1.184773     1.0   0.539149\n"
     ]
    }
   ],
   "source": [
    "df.iloc[[0, 3], 1] = np.nan\n",
    "df=df.replace(to_replace=np.nan,value=-9999)\n",
    "print(df)"
   ]
  },
  {
   "cell_type": "markdown",
   "metadata": {},
   "source": [
    "Wypisujemy True albo False w zaleznosci czy dana wartosc jest Null"
   ]
  },
  {
   "cell_type": "code",
   "execution_count": 37,
   "metadata": {},
   "outputs": [
    {
     "name": "stdout",
     "output_type": "stream",
     "text": [
      "        A      B      C\n",
      "id                     \n",
      "0   False   True  False\n",
      "1   False  False  False\n",
      "2   False  False  False\n",
      "3   False   True  False\n",
      "4   False  False  False\n",
      "5   False  False  False\n",
      "6   False  False  False\n",
      "7   False  False  False\n",
      "8   False  False  False\n",
      "9   False  False  False\n",
      "10  False  False  False\n",
      "11  False  False  False\n",
      "12  False  False  False\n",
      "13  False  False  False\n",
      "14  False  False  False\n",
      "15  False  False  False\n",
      "16  False  False  False\n",
      "17  False  False  False\n",
      "18  False  False  False\n",
      "19  False  False  False\n"
     ]
    }
   ],
   "source": [
    "df.iloc[[0, 3], 1] = np.nan\n",
    "print(pd.isnull(df))"
   ]
  },
  {
   "cell_type": "markdown",
   "metadata": {},
   "source": [
    "Zadania"
   ]
  },
  {
   "cell_type": "code",
   "execution_count": 38,
   "metadata": {},
   "outputs": [
    {
     "name": "stdout",
     "output_type": "stream",
     "text": [
      "   x  y\n",
      "0  1  a\n",
      "1  2  b\n",
      "2  3  a\n",
      "3  4  b\n",
      "4  5  b\n"
     ]
    }
   ],
   "source": [
    "df = pd.DataFrame({\"x\": [1, 2, 3, 4, 5], 'y': ['a', 'b', 'a','b', 'b']})\n",
    "print(df)"
   ]
  },
  {
   "cell_type": "markdown",
   "metadata": {},
   "source": [
    "Zad 1"
   ]
  },
  {
   "cell_type": "code",
   "execution_count": 39,
   "metadata": {},
   "outputs": [
    {
     "name": "stdout",
     "output_type": "stream",
     "text": [
      "y\n",
      "a    2.000000\n",
      "b    3.666667\n",
      "Name: x, dtype: float64\n"
     ]
    }
   ],
   "source": [
    "print(df.groupby('y')['x'].mean())"
   ]
  },
  {
   "cell_type": "markdown",
   "metadata": {},
   "source": [
    "Zad 2"
   ]
  },
  {
   "cell_type": "code",
   "execution_count": 40,
   "metadata": {},
   "outputs": [
    {
     "name": "stdout",
     "output_type": "stream",
     "text": [
      "y  x\n",
      "a  1    1\n",
      "   3    1\n",
      "b  2    1\n",
      "   4    1\n",
      "   5    1\n",
      "Name: count, dtype: int64\n"
     ]
    }
   ],
   "source": [
    "print(df[['y','x']].value_counts())"
   ]
  },
  {
   "cell_type": "markdown",
   "metadata": {},
   "source": [
    "Zad 3"
   ]
  },
  {
   "cell_type": "code",
   "execution_count": 41,
   "metadata": {},
   "outputs": [
    {
     "name": "stdout",
     "output_type": "stream",
     "text": [
      "     Unnamed: 0  normalized-losses         make fuel-type aspiration  \\\n",
      "0             0                NaN  alfa-romero       gas        std   \n",
      "1             1                NaN  alfa-romero       gas        std   \n",
      "2             2                NaN  alfa-romero       gas        std   \n",
      "3             3              164.0         audi       gas        std   \n",
      "4             4              164.0         audi       gas        std   \n",
      "..          ...                ...          ...       ...        ...   \n",
      "200         200               95.0        volvo       gas        std   \n",
      "201         201               95.0        volvo       gas      turbo   \n",
      "202         202               95.0        volvo       gas        std   \n",
      "203         203               95.0        volvo    diesel      turbo   \n",
      "204         204               95.0        volvo       gas      turbo   \n",
      "\n",
      "    num-of-doors   body-style drive-wheels engine-location  wheel-base  ...  \\\n",
      "0            two  convertible          rwd           front        88.6  ...   \n",
      "1            two  convertible          rwd           front        88.6  ...   \n",
      "2            two    hatchback          rwd           front        94.5  ...   \n",
      "3           four        sedan          fwd           front        99.8  ...   \n",
      "4           four        sedan          4wd           front        99.4  ...   \n",
      "..           ...          ...          ...             ...         ...  ...   \n",
      "200         four        sedan          rwd           front       109.1  ...   \n",
      "201         four        sedan          rwd           front       109.1  ...   \n",
      "202         four        sedan          rwd           front       109.1  ...   \n",
      "203         four        sedan          rwd           front       109.1  ...   \n",
      "204         four        sedan          rwd           front       109.1  ...   \n",
      "\n",
      "     fuel-system  bore  stroke  compression-ratio horsepower peak-rpm  \\\n",
      "0           mpfi  3.47    2.68                9.0      111.0   5000.0   \n",
      "1           mpfi  3.47    2.68                9.0      111.0   5000.0   \n",
      "2           mpfi  2.68    3.47                9.0      154.0   5000.0   \n",
      "3           mpfi  3.19    3.40               10.0      102.0   5500.0   \n",
      "4           mpfi  3.19    3.40                8.0      115.0   5500.0   \n",
      "..           ...   ...     ...                ...        ...      ...   \n",
      "200         mpfi  3.78    3.15                9.5      114.0   5400.0   \n",
      "201         mpfi  3.78    3.15                8.7      160.0   5300.0   \n",
      "202         mpfi  3.58    2.87                8.8      134.0   5500.0   \n",
      "203          idi  3.01    3.40               23.0      106.0   4800.0   \n",
      "204         mpfi  3.78    3.15                9.5      114.0   5400.0   \n",
      "\n",
      "     city-mpg highway-mpg    price  symboling  \n",
      "0        21.0        27.0  13495.0          3  \n",
      "1        21.0        27.0  16500.0          3  \n",
      "2        19.0        26.0  16500.0          1  \n",
      "3        24.0        30.0  13950.0          2  \n",
      "4        18.0        22.0  17450.0          2  \n",
      "..        ...         ...      ...        ...  \n",
      "200      23.0        28.0  16845.0         -1  \n",
      "201      19.0        25.0  19045.0         -1  \n",
      "202      18.0        23.0  21485.0         -1  \n",
      "203      26.0        27.0  22470.0         -1  \n",
      "204      19.0        25.0  22625.0         -1  \n",
      "\n",
      "[205 rows x 27 columns]\n",
      "[['' 'normalized-losses' 'make' ... 'highway-mpg' 'price' 'symboling']\n",
      " ['0' '' 'alfa-romero' ... '27.0' '13495.0' '3']\n",
      " ['1' '' 'alfa-romero' ... '27.0' '16500.0' '3']\n",
      " ...\n",
      " ['202' '95.0' 'volvo' ... '23.0' '21485.0' '-1']\n",
      " ['203' '95.0' 'volvo' ... '27.0' '22470.0' '-1']\n",
      " ['204' '95.0' 'volvo' ... '25.0' '22625.0' '-1']]\n"
     ]
    }
   ],
   "source": [
    "data2 = np.loadtxt('autos.csv', delimiter=',', dtype='object')\n",
    "data = pd.read_csv('autos.csv')\n",
    "\n",
    "print(data)\n",
    "print(data2)"
   ]
  },
  {
   "cell_type": "markdown",
   "metadata": {},
   "source": [
    "numpy loadtxt umieszcza zawartosc w tablicy, a pandas read_csv w data frame"
   ]
  },
  {
   "cell_type": "markdown",
   "metadata": {},
   "source": [
    "Zad 4"
   ]
  },
  {
   "cell_type": "code",
   "execution_count": 42,
   "metadata": {},
   "outputs": [
    {
     "name": "stdout",
     "output_type": "stream",
     "text": [
      "                city-mpg  highway-mpg\n",
      "make                                 \n",
      "alfa-romero    20.333333    26.666667\n",
      "audi           18.857143    24.142857\n",
      "bmw            19.375000    25.375000\n",
      "chevrolet      41.000000    46.333333\n",
      "dodge          28.000000    34.111111\n",
      "honda          30.384615    35.461538\n",
      "isuzu          31.000000    36.000000\n",
      "jaguar         14.333333    18.333333\n",
      "mazda          25.705882    31.941176\n",
      "mercedes-benz  18.500000    21.000000\n",
      "mercury        19.000000    24.000000\n",
      "mitsubishi     24.923077    31.153846\n",
      "nissan         27.000000    32.944444\n",
      "peugot         22.454545    26.636364\n",
      "plymouth       28.142857    34.142857\n",
      "porsche        17.400000    26.000000\n",
      "renault        23.000000    31.000000\n",
      "saa            20.333333    27.333333\n",
      "subaru         26.333333    30.750000\n",
      "toyota         27.500000    32.906250\n",
      "volkswagen     28.583333    34.916667\n",
      "volvo          21.181818    25.818182\n"
     ]
    }
   ],
   "source": [
    "print(data.groupby('make')[['city-mpg','highway-mpg']].mean())"
   ]
  },
  {
   "cell_type": "markdown",
   "metadata": {},
   "source": [
    "Zad 5"
   ]
  },
  {
   "cell_type": "code",
   "execution_count": 43,
   "metadata": {},
   "outputs": [
    {
     "name": "stdout",
     "output_type": "stream",
     "text": [
      "make           fuel-type\n",
      "alfa-romero    gas           3\n",
      "audi           gas           7\n",
      "bmw            gas           8\n",
      "chevrolet      gas           3\n",
      "dodge          gas           9\n",
      "honda          gas          13\n",
      "isuzu          gas           4\n",
      "jaguar         gas           3\n",
      "mazda          gas          15\n",
      "               diesel        2\n",
      "mercedes-benz  diesel        4\n",
      "               gas           4\n",
      "mercury        gas           1\n",
      "mitsubishi     gas          13\n",
      "nissan         gas          17\n",
      "               diesel        1\n",
      "peugot         gas           6\n",
      "               diesel        5\n",
      "plymouth       gas           7\n",
      "porsche        gas           5\n",
      "renault        gas           2\n",
      "saa            gas           6\n",
      "subaru         gas          12\n",
      "toyota         gas          29\n",
      "               diesel        3\n",
      "volkswagen     gas           8\n",
      "               diesel        4\n",
      "volvo          gas          10\n",
      "               diesel        1\n",
      "Name: count, dtype: int64\n"
     ]
    }
   ],
   "source": [
    "print(data.groupby('make')['fuel-type'].value_counts())"
   ]
  },
  {
   "cell_type": "markdown",
   "metadata": {},
   "source": [
    "Zad 6"
   ]
  },
  {
   "cell_type": "code",
   "execution_count": 44,
   "metadata": {},
   "outputs": [
    {
     "name": "stdout",
     "output_type": "stream",
     "text": [
      "[-0.35576533 87.14020723]\n",
      "[ 4.39610791e-03 -1.89441985e+00  2.21104093e+02]\n"
     ]
    }
   ],
   "source": [
    "polynomial1 = np.polyfit(data['length'], data['city-mpg'], 1)\n",
    "polynomial2 = np.polyfit(data['length'], data['city-mpg'], 2)\n",
    "\n",
    "print(polynomial1)\n",
    "print(polynomial2)"
   ]
  },
  {
   "cell_type": "code",
   "execution_count": 45,
   "metadata": {},
   "outputs": [
    {
     "name": "stdout",
     "output_type": "stream",
     "text": [
      "[27.08701985 27.08701985 26.23318306 24.31205029 24.31205029 24.06301456\n",
      " 18.58422851 18.58422851 18.58422851 23.74282577 24.24089723 24.24089723\n",
      " 24.24089723 24.24089723 19.90056022 19.90056022 18.19288665 17.0544376\n",
      " 36.94171944 31.67639258 30.64467313 31.17832112 31.17832112 31.17832112\n",
      " 31.17832112 31.17832112 31.17832112 31.17832112 25.02358095 25.52165241\n",
      " 35.69654079 35.69654079 33.77540802 33.77540802 33.77540802 29.00815262\n",
      " 31.24947419 27.54951478 27.54951478 24.73896869 24.73896869 24.73896869\n",
      " 26.98029025 26.41106573 31.67639258 31.67639258 25.7351116  16.12944775\n",
      " 16.12944775 18.93999384 30.53794353 30.53794353 30.53794353 27.79855051\n",
      " 27.79855051 27.01586679 27.01586679 27.01586679 27.01586679 23.8851319\n",
      " 23.8851319  23.8851319  23.8851319  23.8851319  23.8851319  24.88127482\n",
      " 24.88127482 19.2246061  19.2246061  20.43420822 15.06215176 15.06215176\n",
      " 22.99571858 13.10544246 16.27175388 23.6716727  31.17832112 31.17832112\n",
      " 31.17832112 31.17832112 25.59280547 25.59280547 25.52165241 25.52165241\n",
      " 25.52165241 25.80626467 25.80626467 25.80626467 25.80626467 28.3321985\n",
      " 28.3321985  28.3321985  28.3321985  26.58894839 28.3321985  28.2254689\n",
      " 28.3321985  26.58894839 29.36391795 25.45049934 25.45049934 22.49764712\n",
      " 21.46592767 21.46592767 26.41106573 26.41106573 23.63609617 20.71882048\n",
      " 20.71882048 16.37848348 16.37848348 20.71882048 20.71882048 16.37848348\n",
      " 16.37848348 20.71882048 20.71882048 20.71882048 31.17832112 31.17832112\n",
      " 31.17832112 27.62066784 27.62066784 25.02358095 25.52165241 27.05144332\n",
      " 27.05144332 27.05144332 27.05144332 24.63223909 22.56880018 24.24089723\n",
      " 20.75439701 20.75439701 20.75439701 20.75439701 20.75439701 20.75439701\n",
      " 31.32062726 30.96486193 31.17832112 25.9485708  25.9485708  25.9485708\n",
      " 25.9485708  25.9485708  25.41492281 25.41492281 25.37934628 25.37934628\n",
      " 30.68024966 30.68024966 30.68024966 26.76683106 26.76683106 26.76683106\n",
      " 27.97643317 27.97643317 27.97643317 27.97643317 27.97643317 27.97643317\n",
      " 27.97643317 27.12259638 27.12259638 27.12259638 27.12259638 24.45435642\n",
      " 24.45435642 24.45435642 24.45435642 24.45435642 24.45435642 24.66781562\n",
      " 24.66781562 24.66781562 24.66781562 24.66781562 21.85726953 21.85726953\n",
      " 20.32747862 20.32747862 26.0553004  26.0553004  26.0553004  26.0553004\n",
      " 26.0553004  26.0553004  26.0553004  30.46679047 28.18989237 23.03129511\n",
      " 23.03129511 21.99957566 19.97171329 19.97171329 19.97171329 19.97171329\n",
      " 19.97171329 19.97171329 19.97171329 19.97171329 19.97171329 19.97171329\n",
      " 19.97171329]\n"
     ]
    }
   ],
   "source": [
    "print(np.polyval(polynomial1, data['length']))"
   ]
  },
  {
   "cell_type": "code",
   "execution_count": 46,
   "metadata": {},
   "outputs": [
    {
     "name": "stdout",
     "output_type": "stream",
     "text": [
      "[26.58625882 26.58625882 25.62687522 23.65342619 23.65342619 23.41638011\n",
      " 19.29133721 19.29133721 19.29133721 23.11793696 23.58525913 23.58525913\n",
      " 23.58525913 23.58525913 20.09211144 20.09211144 19.07648065 18.51193382\n",
      " 41.32448739 32.61060547 31.12880785 31.88602307 31.88602307 31.88602307\n",
      " 31.88602307 31.88602307 31.88602307 31.88602307 24.35443971 24.86607464\n",
      " 39.089906   39.089906   35.8535431  35.8535431  35.8535431  28.93003598\n",
      " 31.98847977 27.12707021 27.12707021 24.06981404 24.06981404 24.06981404\n",
      " 26.46356632 25.8225705  32.61060547 32.61060547 25.09062208 18.11953283\n",
      " 18.11953283 19.49589319 30.97973871 30.97973871 30.97973871 27.4244309\n",
      " 27.4244309  26.5043759  26.5043759  26.5043759  26.5043759  23.24969914\n",
      " 23.24969914 23.24969914 23.24969914 23.24969914 23.24969914 24.21142349\n",
      " 24.21142349 19.66586836 19.66586836 20.45103928 17.74061707 17.74061707\n",
      " 22.44926511 17.25145622 18.17603364 23.05258341 31.88602307 31.88602307\n",
      " 31.88602307 31.88602307 24.9405721  24.9405721  24.86607464 24.86607464\n",
      " 24.86607464 25.16617461 25.16617461 25.16617461 25.16617461 28.07613952\n",
      " 28.07613952 28.07613952 28.07613952 26.02046383 28.07613952 27.9442152\n",
      " 28.07613952 26.02046383 29.39220387 24.79192887 24.79192887 22.0250248\n",
      " 21.20106077 21.20106077 25.8225705  25.8225705  23.02003851 20.6505563\n",
      " 20.6505563  18.21933243 18.21933243 20.6505563  20.6505563  18.21933243\n",
      " 18.21933243 20.6505563  20.6505563  20.6505563  31.88602307 31.88602307\n",
      " 31.88602307 27.2115908  27.2115908  24.35443971 24.86607464 26.5452734\n",
      " 26.5452734  26.5452734  26.5452734  23.96453013 22.08457549 23.58525913\n",
      " 20.67589157 20.67589157 20.67589157 20.67589157 20.67589157 20.67589157\n",
      " 32.09128817 31.58076308 31.88602307 25.31833472 25.31833472 25.31833472\n",
      " 25.31833472 25.31833472 24.75498787 24.75498787 24.71813479 24.71813479\n",
      " 31.17867341 31.17867341 31.17867341 26.22055522 26.22055522 26.22055522\n",
      " 27.63946905 27.63946905 27.63946905 27.63946905 27.63946905 27.63946905\n",
      " 27.63946905 26.62733216 26.62733216 26.62733216 26.62733216 23.79081539\n",
      " 23.79081539 23.79081539 23.79081539 23.79081539 23.79081539 23.99953684\n",
      " 23.99953684 23.99953684 23.99953684 23.99953684 21.50489456 21.50489456\n",
      " 20.37767111 20.37767111 25.43337799 25.43337799 25.43337799 25.43337799\n",
      " 25.43337799 25.43337799 25.43337799 30.88079889 27.90041627 22.4802274\n",
      " 22.4802274  21.61801723 20.13882549 20.13882549 20.13882549 20.13882549\n",
      " 20.13882549 20.13882549 20.13882549 20.13882549 20.13882549 20.13882549\n",
      " 20.13882549]\n"
     ]
    }
   ],
   "source": [
    "print(np.polyval(polynomial2, data['length']))"
   ]
  },
  {
   "cell_type": "markdown",
   "metadata": {},
   "source": [
    "Zad 7"
   ]
  },
  {
   "cell_type": "code",
   "execution_count": 47,
   "metadata": {},
   "outputs": [
    {
     "name": "stdout",
     "output_type": "stream",
     "text": [
      "PearsonRResult(statistic=-0.6709086615585712, pvalue=3.5955288422255206e-28)\n"
     ]
    }
   ],
   "source": [
    "print(scs.pearsonr(data['length'], data['city-mpg']))"
   ]
  },
  {
   "cell_type": "markdown",
   "metadata": {},
   "source": [
    "Zad 8"
   ]
  },
  {
   "cell_type": "code",
   "execution_count": 48,
   "metadata": {},
   "outputs": [
    {
     "data": {
      "image/png": "[encoded data removed]",
      "text/plain": [
       "<Figure size 640x480 with 1 Axes>"
      ]
     },
     "metadata": {},
     "output_type": "display_data"
    }
   ],
   "source": [
    "length = data['length']\n",
    "city_mpg = data['city-mpg']\n",
    "\n",
    "x_values = np.linspace(length.min(), length.max(), 100)\n",
    "\n",
    "predicted_city_mpg_linear = np.polyval(polynomial1, x_values)\n",
    "predicted_city_mpg_quadratic = np.polyval(polynomial2, x_values)\n",
    "\n",
    "plt.scatter(length, city_mpg)\n",
    "\n",
    "plt.plot(x_values, predicted_city_mpg_linear, label='Polynomial 1', color='purple')\n",
    "plt.plot(x_values, predicted_city_mpg_quadratic, label='Polynomial 2', color='green')\n",
    "\n",
    "plt.xlabel('Length') \n",
    "plt.ylabel('City MPG')\n",
    "\n",
    "plt.grid(True)\n",
    "plt.show()"
   ]
  },
  {
   "cell_type": "markdown",
   "metadata": {},
   "source": [
    "Zad 9"
   ]
  },
  {
   "cell_type": "code",
   "execution_count": 56,
   "metadata": {},
   "outputs": [
    {
     "data": {
      "image/png": "[encoded data removed]",
      "text/plain": [
       "<Figure size 640x480 with 1 Axes>"
      ]
     },
     "metadata": {},
     "output_type": "display_data"
    }
   ],
   "source": [
    "kde = scs.gaussian_kde(length)\n",
    "\n",
    "density_estimates = kde.evaluate(x_values)\n",
    "\n",
    "plt.plot(x_values, density_estimates, label='KDE')\n",
    "\n",
    "plt.hist(length, bins=25, density=True, alpha=0.5, label='Samples')\n",
    "\n",
    "plt.xlabel('Length')\n",
    "plt.ylabel('Density')\n",
    "\n",
    "plt.legend()\n",
    "\n",
    "plt.grid(True)\n",
    "plt.show()"
   ]
  },
  {
   "cell_type": "markdown",
   "metadata": {},
   "source": [
    "Zad 10"
   ]
  },
  {
   "cell_type": "code",
   "execution_count": 50,
   "metadata": {},
   "outputs": [
    {
     "data": {
      "image/png": "[encoded data removed]",
      "text/plain": [
       "<Figure size 1200x500 with 2 Axes>"
      ]
     },
     "metadata": {},
     "output_type": "display_data"
    }
   ],
   "source": [
    "width = data['width']\n",
    "\n",
    "fig, (ax1, ax2) = plt.subplots(1, 2, figsize=(12, 5))\n",
    "\n",
    "kde_length = scs.gaussian_kde(length)\n",
    "x_values_length = np.linspace(length.min(), length.max(), 100)\n",
    "density_estimates_length = kde_length.evaluate(x_values_length)\n",
    "ax1.plot(x_values_length, density_estimates_length, label='KDE')\n",
    "ax1.hist(length, bins=25, density=True, alpha=0.5, label='Samples')\n",
    "ax1.set_xlabel('Length')\n",
    "ax1.set_ylabel('Density')\n",
    "ax1.legend()\n",
    "ax1.grid(True)\n",
    "\n",
    "kde_width = scs.gaussian_kde(width)\n",
    "x_values_width = np.linspace(width.min(), width.max(), 100)\n",
    "density_estimates_width = kde_width.evaluate(x_values_width)\n",
    "ax2.plot(x_values_width, density_estimates_width, label='KDE')\n",
    "ax2.hist(width, bins=25, density=True, alpha=0.5, label='Samples')\n",
    "ax2.set_xlabel('Width')\n",
    "ax2.set_ylabel('Density')\n",
    "ax2.legend()\n",
    "ax2.grid(True)\n",
    "\n",
    "plt.show()"
   ]
  },
  {
   "cell_type": "markdown",
   "metadata": {},
   "source": [
    "Zad 11"
   ]
  },
  {
   "cell_type": "code",
   "execution_count": 51,
   "metadata": {},
   "outputs": [
    {
     "data": {
      "image/png": "[encoded data removed]",
      "text/plain": [
       "<Figure size 640x480 with 1 Axes>"
      ]
     },
     "metadata": {},
     "output_type": "display_data"
    }
   ],
   "source": [
    "kde = scs.gaussian_kde([length, width])\n",
    "\n",
    "x_values = np.linspace(length.min(), length.max(), 100)\n",
    "y_values = np.linspace(width.min(), width.max(), 100)\n",
    "X, Y = np.meshgrid(x_values, y_values)\n",
    "positions = np.vstack([X.ravel(), Y.ravel()])\n",
    "\n",
    "density_estimates = np.reshape(kde(positions).T, X.shape)\n",
    "\n",
    "plt.figure()\n",
    "plt.scatter(length, width)\n",
    "\n",
    "plt.contour(X, Y, density_estimates, cmap='viridis')\n",
    "plt.xlabel('Length')\n",
    "plt.ylabel('Width')\n",
    "\n",
    "plt.savefig('kde_plot.png')\n",
    "plt.savefig('kde_plot.pdf')\n",
    "\n",
    "plt.show()"
   ]
  }
 ],
 "metadata": {
  "kernelspec": {
   "display_name": "laby",
   "language": "python",
   "name": "python3"
  },
  "language_info": {
   "codemirror_mode": {
    "name": "ipython",
    "version": 3
   },
   "file_extension": ".py",
   "mimetype": "text/x-python",
   "name": "python",
   "nbconvert_exporter": "python",
   "pygments_lexer": "ipython3",
   "version": "3.11.8"
  }
 },
 "nbformat": 4,
 "nbformat_minor": 2
}
