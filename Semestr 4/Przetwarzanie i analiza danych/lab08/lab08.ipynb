{
 "cells": [
  {
   "cell_type": "markdown",
   "metadata": {},
   "source": [
    "LAB 08<br>\n",
    "gr.220A<br>\n",
    "pp53828<br>\n",
    "Piotr Pietrusewicz<br>"
   ]
  },
  {
   "cell_type": "code",
   "execution_count": 77,
   "metadata": {},
   "outputs": [],
   "source": [
    "import numpy as np\n",
    "import matplotlib.pyplot as plt\n",
    "import pandas as pd"
   ]
  },
  {
   "cell_type": "markdown",
   "metadata": {},
   "source": [
    "# Zad 1"
   ]
  },
  {
   "cell_type": "code",
   "execution_count": 78,
   "metadata": {},
   "outputs": [],
   "source": [
    "def distp(X, C, e):\n",
    "    # Zamieniamy listy na macierze numpy\n",
    "    X = np.array(X)\n",
    "    C = np.array(C)\n",
    "    \n",
    "    # Inicjalizujemy macierz odległości\n",
    "    distances = np.zeros((len(X), len(C)))\n",
    "\n",
    "    for i in range(len(X)):\n",
    "        for k in range(len(C)):\n",
    "            # Obliczamy odległość między punktem X[i] a centroida C[k]\n",
    "            squared_diff = np.sum(np.power(np.abs(X[i] - C[k]), e))\n",
    "            distances[i][k] = np.power(squared_diff, 1 / e)\n",
    "\n",
    "    return distances"
   ]
  },
  {
   "cell_type": "code",
   "execution_count": 79,
   "metadata": {},
   "outputs": [],
   "source": [
    "def ksrodki(X, k):\n",
    "    # e = 2 odleglosc Euclidesowa, e = 1 odleglosc Manhattan\n",
    "    e = 2\n",
    "    \n",
    "    # Wybieramy losowe k punktów bez zwracania z X jako centroidy\n",
    "    C = X[np.random.choice(X.shape[0], k, replace=False)]\n",
    "\n",
    "    # Pętla główna, gdzie jako warunek stopu przyjmujemy, że centroidy nie zmieniają się\n",
    "    while True:\n",
    "        # Obliczamy odległości między punktami a centroidami\n",
    "        distances = distp(X, C, e)\n",
    "\n",
    "        # Wybieramy indeksy najbliższych centroidów dla każdego punktu\n",
    "        CX = np.argmin(distances, axis=1)\n",
    "\n",
    "        new_C = np.zeros((k, X.shape[1]))\n",
    "\n",
    "        # Liczymy nowe centroidy\n",
    "        for i in range(k):\n",
    "            # Jesli istnieja punkty przypisane do klastra i\n",
    "            if np.sum(CX == i) > 0:\n",
    "                # Obliczamy średnią z punktów przypisanych do klastra i\n",
    "                new_C[i] = np.mean(X[CX == i], axis=0)\n",
    "            else:\n",
    "                # Jesli nie ma punktow przypisanych do klastra, to centroida nie zmienia sie\n",
    "                new_C[i] = C[i]\n",
    "        \n",
    "        # Jesli nowe centroidy sa blisko do poprzednich, to konczymy petle\n",
    "        if np.allclose(C, new_C):\n",
    "            break\n",
    "        \n",
    "        # Ustawiamy nowe centroidy jako aktualne\n",
    "        C = new_C\n",
    "\n",
    "    return C, CX"
   ]
  },
  {
   "cell_type": "markdown",
   "metadata": {},
   "source": [
    "# Zad 2"
   ]
  },
  {
   "cell_type": "code",
   "execution_count": 80,
   "metadata": {},
   "outputs": [
    {
     "name": "stdout",
     "output_type": "stream",
     "text": [
      "[[ 99.92884615 178.75961538]\n",
      " [108.51707317 192.06097561]\n",
      " [ 93.47222222 155.925     ]\n",
      " [ 95.19210526 169.69473684]]\n",
      "[3 3 3 0 0 0 1 1 1 0 0 0 0 0 1 1 1 1 2 2 2 2 2 2 2 2 2 2 0 3 2 2 2 2 2 3 2\n",
      " 3 3 0 0 0 3 3 2 2 3 1 1 1 2 2 2 3 3 3 3 3 3 0 0 0 0 0 0 0 0 1 1 1 1 1 0 1\n",
      " 1 0 2 2 2 2 3 3 3 3 3 3 3 3 3 3 3 3 3 3 3 3 3 3 2 3 3 0 0 0 3 3 0 1 1 1 1\n",
      " 1 1 1 1 1 1 1 2 2 2 3 3 0 3 3 3 3 3 0 0 0 0 0 0 0 0 0 2 2 2 3 3 3 3 3 3 3\n",
      " 3 3 2 2 2 3 3 3 3 3 3 3 3 3 3 3 3 3 3 0 0 0 0 0 0 0 0 0 0 0 0 0 1 1 3 3 3\n",
      " 3 3 3 3 2 3 0 0 0 1 1 1 1 1 1 1 1 1 1 1]\n"
     ]
    }
   ],
   "source": [
    "autos_df = pd.read_csv(\"../lab01/autos.csv\")\n",
    "\n",
    "# Wybierz tylko 2 kolumny z autos_df\n",
    "autos_numeric = autos_df[['wheel-base', 'length']].copy()\n",
    "\n",
    "# Konwertuj na numpy array\n",
    "X = autos_numeric.values\n",
    "\n",
    "k = 4\n",
    "C, CX = ksrodki(X, k)\n",
    "\n",
    "print(C)\n",
    "print(CX)"
   ]
  },
  {
   "cell_type": "markdown",
   "metadata": {},
   "source": [
    "# Zad 3"
   ]
  },
  {
   "cell_type": "code",
   "execution_count": 81,
   "metadata": {},
   "outputs": [
    {
     "data": {
      "image/png": "[encoded data removed]",
      "text/plain": [
       "<Figure size 640x480 with 1 Axes>"
      ]
     },
     "metadata": {},
     "output_type": "display_data"
    }
   ],
   "source": [
    "plt.scatter(X[:, 0], X[:, 1], c=CX, cmap='viridis', marker='o')\n",
    "plt.scatter(C[:, 0], C[:, 1], c='red', marker='o')\n",
    "plt.show()"
   ]
  },
  {
   "cell_type": "markdown",
   "metadata": {},
   "source": [
    "# Zad 4"
   ]
  },
  {
   "cell_type": "code",
   "execution_count": 82,
   "metadata": {},
   "outputs": [],
   "source": [
    "def clustering_quality(X, C, CX):\n",
    "    inter_cluster_distance_sum = 0\n",
    "    intra_cluster_distance_sum = 0\n",
    "\n",
    "    e = 2\n",
    "\n",
    "    K = len(C)\n",
    "\n",
    "    # Obliczamy sumę odległości między centroidami\n",
    "    for k in range(K):\n",
    "        for l in range(k + 1, K):\n",
    "            inter_cluster_distance_sum += distp([C[k]], [C[l]], e)[0][0]\n",
    "\n",
    "    # Obliczamy sumę odległości wewnątrz klastrów\n",
    "    for k in range(K):\n",
    "        cluster_points = X[CX == k]\n",
    "        for point in cluster_points:\n",
    "            intra_cluster_distance_sum += distp([point], [C[k]], e)[0][0] ** 2\n",
    "\n",
    "    # Dzielimy sumę odległości wewnątrz klastrów przez sumę odległości między klastrami\n",
    "    clustering_quality = inter_cluster_distance_sum / intra_cluster_distance_sum\n",
    "\n",
    "    return clustering_quality"
   ]
  },
  {
   "cell_type": "code",
   "execution_count": 83,
   "metadata": {},
   "outputs": [
    {
     "name": "stdout",
     "output_type": "stream",
     "text": [
      "0.02696672899046957\n"
     ]
    }
   ],
   "source": [
    "print(clustering_quality(X, C, CX))"
   ]
  }
 ],
 "metadata": {
  "kernelspec": {
   "display_name": "laby",
   "language": "python",
   "name": "python3"
  },
  "language_info": {
   "codemirror_mode": {
    "name": "ipython",
    "version": 3
   },
   "file_extension": ".py",
   "mimetype": "text/x-python",
   "name": "python",
   "nbconvert_exporter": "python",
   "pygments_lexer": "ipython3",
   "version": "3.11.8"
  }
 },
 "nbformat": 4,
 "nbformat_minor": 2
}
