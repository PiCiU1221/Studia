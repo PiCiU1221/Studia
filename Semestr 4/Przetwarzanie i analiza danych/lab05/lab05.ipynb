{
 "cells": [
  {
   "cell_type": "markdown",
   "metadata": {},
   "source": [
    "LAB 05<br>\n",
    "gr.220A<br>\n",
    "pp53828<br>\n",
    "Piotr Pietrusewicz<br>"
   ]
  },
  {
   "cell_type": "code",
   "execution_count": 127,
   "metadata": {},
   "outputs": [
    {
     "name": "stdout",
     "output_type": "stream",
     "text": [
      "     animal   hair  feathers   eggs   milk  airborne  aquatic  predator  \\\n",
      "0  aardvark   True     False  False   True     False    False      True   \n",
      "1  antelope   True     False  False   True     False    False     False   \n",
      "2      bass  False     False   True  False     False     True      True   \n",
      "3      bear   True     False  False   True     False    False      True   \n",
      "4      boar   True     False  False   True     False    False      True   \n",
      "\n",
      "   toothed  backbone  breathes  venomous   fins  legs   tail  domestic  \\\n",
      "0     True      True      True     False  False     4  False     False   \n",
      "1     True      True      True     False  False     4   True     False   \n",
      "2     True      True     False     False   True     0   True     False   \n",
      "3     True      True      True     False  False     4  False     False   \n",
      "4     True      True      True     False  False     4   True     False   \n",
      "\n",
      "   catsize    type  \n",
      "0     True  mammal  \n",
      "1     True  mammal  \n",
      "2    False    fish  \n",
      "3     True  mammal  \n",
      "4     True  mammal  \n"
     ]
    }
   ],
   "source": [
    "import pandas as pd\n",
    "\n",
    "df = pd.read_csv('zoo.csv')\n",
    "\n",
    "print(df.head())"
   ]
  },
  {
   "cell_type": "markdown",
   "metadata": {},
   "source": [
    "# Zadanie 1"
   ]
  },
  {
   "cell_type": "code",
   "execution_count": 128,
   "metadata": {},
   "outputs": [],
   "source": [
    "def freq(x, prob = True):\n",
    "    xi = x.unique()\n",
    "\n",
    "    ni = {}\n",
    "\n",
    "    for value in x:\n",
    "        if value in ni:\n",
    "            ni[value] += 1\n",
    "        else:\n",
    "            ni[value] = 1\n",
    "\n",
    "    if prob == True:\n",
    "        total_number = len(x)\n",
    "\n",
    "        for value in ni:\n",
    "            ni[value] = ni[value] / total_number\n",
    "\n",
    "\n",
    "    return xi, ni"
   ]
  },
  {
   "cell_type": "code",
   "execution_count": 129,
   "metadata": {},
   "outputs": [
    {
     "name": "stdout",
     "output_type": "stream",
     "text": [
      "{False: 0.4158415841584158, True: 0.5841584158415841}\n",
      "{False: 42, True: 59}\n"
     ]
    }
   ],
   "source": [
    "[xi, ni] = freq(df['eggs'], True)\n",
    "\n",
    "print(ni)\n",
    "\n",
    "[xi, ni] = freq(df['eggs'], False)\n",
    "\n",
    "print(ni)"
   ]
  },
  {
   "cell_type": "markdown",
   "metadata": {},
   "source": [
    "# Zadanie 2"
   ]
  },
  {
   "cell_type": "code",
   "execution_count": 130,
   "metadata": {},
   "outputs": [],
   "source": [
    "def freq2(x, y, prob = True):\n",
    "    xi = x.unique()\n",
    "    yi = y.unique()\n",
    "\n",
    "    ni = {}\n",
    "\n",
    "    for value_x in xi:\n",
    "        ni[value_x] = {}\n",
    "        for value_y in yi:\n",
    "            ni[value_x][value_y] = 0\n",
    "\n",
    "    for value_x, value_y in zip(x, y):\n",
    "        ni[value_x][value_y] += 1\n",
    "\n",
    "    if prob:\n",
    "        for value_x in xi:\n",
    "            total_number = sum(ni[value_x].values())\n",
    "            for value_y in yi:\n",
    "                ni[value_x][value_y] /= total_number\n",
    "\n",
    "    return xi, yi, ni"
   ]
  },
  {
   "cell_type": "code",
   "execution_count": 131,
   "metadata": {},
   "outputs": [
    {
     "name": "stdout",
     "output_type": "stream",
     "text": [
      "{'mammal': {False: 0.975609756097561, True: 0.024390243902439025}, 'fish': {False: 0.0, True: 1.0}, 'bird': {False: 0.0, True: 1.0}, 'invertebrate': {False: 0.1, True: 0.9}, 'insect': {False: 0.0, True: 1.0}, 'amphibian': {False: 0.0, True: 1.0}, 'reptile': {False: 0.2, True: 0.8}}\n",
      "{'mammal': {False: 40, True: 1}, 'fish': {False: 0, True: 13}, 'bird': {False: 0, True: 20}, 'invertebrate': {False: 1, True: 9}, 'insect': {False: 0, True: 8}, 'amphibian': {False: 0, True: 4}, 'reptile': {False: 1, True: 4}}\n"
     ]
    }
   ],
   "source": [
    "[xi, yi, ni] = freq2(df['type'], df['eggs'], True)\n",
    "\n",
    "print(ni)\n",
    "\n",
    "[xi, yi, ni] = freq2(df['type'], df['eggs'], False)\n",
    "\n",
    "print(ni)"
   ]
  },
  {
   "cell_type": "markdown",
   "metadata": {},
   "source": [
    "# Zadanie 3"
   ]
  },
  {
   "cell_type": "markdown",
   "metadata": {},
   "source": [
    "# Entropia"
   ]
  },
  {
   "cell_type": "code",
   "execution_count": 132,
   "metadata": {},
   "outputs": [],
   "source": [
    "import math\n",
    "\n",
    "def entropy(x):\n",
    "    h = 0\n",
    "\n",
    "    counts = x.value_counts()\n",
    "    total_count = len(x)\n",
    "\n",
    "    for count in counts:\n",
    "        probability = count / total_count\n",
    "        h -= probability * math.log(probability, 2)\n",
    "\n",
    "    return h"
   ]
  },
  {
   "cell_type": "code",
   "execution_count": 133,
   "metadata": {},
   "outputs": [
    {
     "name": "stdout",
     "output_type": "stream",
     "text": [
      "Entropia: 0.9794662187017299\n"
     ]
    }
   ],
   "source": [
    "h = entropy(df['eggs'])\n",
    "print(\"Entropia:\", h)"
   ]
  },
  {
   "cell_type": "markdown",
   "metadata": {},
   "source": [
    "# Infogain"
   ]
  },
  {
   "cell_type": "code",
   "execution_count": 134,
   "metadata": {},
   "outputs": [],
   "source": [
    "def infogain(x, y):\n",
    "    total_samples = len(y)\n",
    "    entropy_parent = entropy(y)\n",
    "\n",
    "    unique_values = x.unique()\n",
    "    weighted_entropy_children = 0\n",
    "\n",
    "    for value in unique_values:\n",
    "        subset_indices = x[x == value].index\n",
    "        subset_y = y[subset_indices]\n",
    "        subset_weight = len(subset_y) / total_samples\n",
    "        weighted_entropy_children += subset_weight * entropy(subset_y)\n",
    "\n",
    "    information_gain = entropy_parent - weighted_entropy_children\n",
    "    return information_gain"
   ]
  },
  {
   "cell_type": "code",
   "execution_count": 135,
   "metadata": {},
   "outputs": [
    {
     "name": "stdout",
     "output_type": "stream",
     "text": [
      "Infogain: 0.8301384483633478\n"
     ]
    }
   ],
   "source": [
    "i = infogain(df['eggs'], df['type'])\n",
    "\n",
    "print(\"Infogain:\", i)"
   ]
  },
  {
   "cell_type": "markdown",
   "metadata": {},
   "source": [
    "# Zadanie 4"
   ]
  },
  {
   "cell_type": "code",
   "execution_count": 136,
   "metadata": {},
   "outputs": [
    {
     "name": "stdout",
     "output_type": "stream",
     "text": [
      "      column   entropy  infogain\n",
      "12      legs  2.033811  1.363047\n",
      "3       milk  0.974320  0.974320\n",
      "7    toothed  0.968587  0.865694\n",
      "2       eggs  0.979466  0.830138\n",
      "0       hair  0.984030  0.790675\n",
      "1   feathers  0.717950  0.717950\n",
      "8   backbone  0.676163  0.676163\n",
      "9   breathes  0.737490  0.614494\n",
      "13      tail  0.822837  0.500460\n",
      "4   airborne  0.791066  0.469703\n",
      "11      fins  0.653840  0.466614\n",
      "5    aquatic  0.939685  0.389487\n",
      "15   catsize  0.988016  0.308490\n",
      "10  venomous  0.399382  0.133090\n",
      "6   predator  0.991427  0.093447\n",
      "14  domestic  0.553898  0.050669\n"
     ]
    }
   ],
   "source": [
    "results = pd.DataFrame(columns=['column', 'entropy', 'infogain'])\n",
    "\n",
    "results_list = []\n",
    "\n",
    "for column in df.columns:\n",
    "    if column != 'type' and column != 'animal':\n",
    "        ent = entropy(df[column])\n",
    "        ig = infogain(df[column], df['type'])\n",
    "        result_df = pd.DataFrame({'column': [column], 'entropy': [ent], 'infogain': [ig]})\n",
    "        results_list.append(result_df)\n",
    "\n",
    "results = pd.concat(results_list, ignore_index=True)\n",
    "results_sorted = results.sort_values(by='infogain', ascending=False)\n",
    "print(results_sorted)"
   ]
  },
  {
   "cell_type": "markdown",
   "metadata": {},
   "source": [
    "# Zadanie 5"
   ]
  },
  {
   "cell_type": "code",
   "execution_count": 144,
   "metadata": {},
   "outputs": [
    {
     "ename": "AttributeError",
     "evalue": "'csr_matrix' object has no attribute 'unique'",
     "output_type": "error",
     "traceback": [
      "\u001b[1;31m---------------------------------------------------------------------------\u001b[0m",
      "\u001b[1;31mAttributeError\u001b[0m                            Traceback (most recent call last)",
      "Cell \u001b[1;32mIn[144], line 7\u001b[0m\n\u001b[0;32m      4\u001b[0m sparse_matrix_x \u001b[38;5;241m=\u001b[39m csr_matrix(np\u001b[38;5;241m.\u001b[39marray([[\u001b[38;5;241m0\u001b[39m, \u001b[38;5;241m1\u001b[39m, \u001b[38;5;241m0\u001b[39m], [\u001b[38;5;241m0\u001b[39m, \u001b[38;5;241m0\u001b[39m, \u001b[38;5;241m1\u001b[39m], [\u001b[38;5;241m1\u001b[39m, \u001b[38;5;241m0\u001b[39m, \u001b[38;5;241m0\u001b[39m]]))\n\u001b[0;32m      5\u001b[0m sparse_matrix_y \u001b[38;5;241m=\u001b[39m csr_matrix(np\u001b[38;5;241m.\u001b[39marray([[\u001b[38;5;241m1\u001b[39m, \u001b[38;5;241m0\u001b[39m, \u001b[38;5;241m0\u001b[39m], [\u001b[38;5;241m0\u001b[39m, \u001b[38;5;241m1\u001b[39m, \u001b[38;5;241m0\u001b[39m], [\u001b[38;5;241m0\u001b[39m, \u001b[38;5;241m0\u001b[39m, \u001b[38;5;241m1\u001b[39m]]))\n\u001b[1;32m----> 7\u001b[0m [xi, ni] \u001b[38;5;241m=\u001b[39m \u001b[43mfreq\u001b[49m\u001b[43m(\u001b[49m\u001b[43msparse_matrix_x\u001b[49m\u001b[43m)\u001b[49m\n\u001b[0;32m      8\u001b[0m \u001b[38;5;66;03m# [xi, yi, ni] = freq2(sparse_matrix_x, sparse_matrix_y)\u001b[39;00m\n\u001b[0;32m      9\u001b[0m \n\u001b[0;32m     10\u001b[0m \u001b[38;5;66;03m# print(ni)\u001b[39;00m\n",
      "Cell \u001b[1;32mIn[128], line 2\u001b[0m, in \u001b[0;36mfreq\u001b[1;34m(x, prob)\u001b[0m\n\u001b[0;32m      1\u001b[0m \u001b[38;5;28;01mdef\u001b[39;00m \u001b[38;5;21mfreq\u001b[39m(x, prob \u001b[38;5;241m=\u001b[39m \u001b[38;5;28;01mTrue\u001b[39;00m):\n\u001b[1;32m----> 2\u001b[0m     xi \u001b[38;5;241m=\u001b[39m \u001b[43mx\u001b[49m\u001b[38;5;241;43m.\u001b[39;49m\u001b[43munique\u001b[49m()\n\u001b[0;32m      4\u001b[0m     ni \u001b[38;5;241m=\u001b[39m {}\n\u001b[0;32m      6\u001b[0m     \u001b[38;5;28;01mfor\u001b[39;00m value \u001b[38;5;129;01min\u001b[39;00m x:\n",
      "\u001b[1;31mAttributeError\u001b[0m: 'csr_matrix' object has no attribute 'unique'"
     ]
    }
   ],
   "source": [
    "import numpy as np\n",
    "from scipy.sparse import csr_matrix\n",
    "\n",
    "sparse_matrix_x = csr_matrix(np.array([[0, 1, 0], [0, 0, 1], [1, 0, 0]]))\n",
    "sparse_matrix_y = csr_matrix(np.array([[1, 0, 0], [0, 1, 0], [0, 0, 1]]))\n",
    "\n",
    "# Blad\n",
    "# [xi, ni] = freq(sparse_matrix_x)\n",
    "# [xi, yi, ni] = freq2(sparse_matrix_x, sparse_matrix_y)\n",
    "\n",
    "# print(ni)"
   ]
  },
  {
   "cell_type": "markdown",
   "metadata": {},
   "source": [
    "# freq"
   ]
  },
  {
   "cell_type": "code",
   "execution_count": 151,
   "metadata": {},
   "outputs": [],
   "source": [
    "def freq(x, prob = True):\n",
    "    x = x.toarray().flatten()\n",
    "\n",
    "    xi = np.unique(x)\n",
    "\n",
    "    ni = {}\n",
    "\n",
    "    for value in x:\n",
    "        if value in ni:\n",
    "            ni[value] += 1\n",
    "        else:\n",
    "            ni[value] = 1\n",
    "\n",
    "    if prob == True:\n",
    "        total_number = len(x)\n",
    "\n",
    "        for value in ni:\n",
    "            ni[value] = ni[value] / total_number\n",
    "\n",
    "\n",
    "    return xi, ni"
   ]
  },
  {
   "cell_type": "code",
   "execution_count": 152,
   "metadata": {},
   "outputs": [
    {
     "name": "stdout",
     "output_type": "stream",
     "text": [
      "{0: 0.6666666666666666, 1: 0.3333333333333333}\n"
     ]
    }
   ],
   "source": [
    "[xi, ni] = freq(sparse_matrix_x)\n",
    "\n",
    "print(ni)"
   ]
  },
  {
   "cell_type": "markdown",
   "metadata": {},
   "source": [
    "# freq2"
   ]
  },
  {
   "cell_type": "code",
   "execution_count": 154,
   "metadata": {},
   "outputs": [],
   "source": [
    "def freq2(x, y, prob = True):\n",
    "    x = x.toarray().flatten()\n",
    "    y = y.toarray().flatten()\n",
    "\n",
    "    xi = np.unique(x)\n",
    "    yi = np.unique(y)\n",
    "\n",
    "    ni = {}\n",
    "\n",
    "    for value_x in xi:\n",
    "        ni[value_x] = {}\n",
    "        for value_y in yi:\n",
    "            ni[value_x][value_y] = 0\n",
    "\n",
    "    for value_x, value_y in zip(x, y):\n",
    "        ni[value_x][value_y] += 1\n",
    "\n",
    "    if prob:\n",
    "        for value_x in xi:\n",
    "            total_number = sum(ni[value_x].values())\n",
    "            for value_y in yi:\n",
    "                ni[value_x][value_y] /= total_number\n",
    "\n",
    "    return xi, yi, ni"
   ]
  },
  {
   "cell_type": "code",
   "execution_count": 155,
   "metadata": {},
   "outputs": [
    {
     "name": "stdout",
     "output_type": "stream",
     "text": [
      "{0: {0: 0.5, 1: 0.5}, 1: {0: 1.0, 1: 0.0}}\n"
     ]
    }
   ],
   "source": [
    "[xi, yi, ni] = freq2(sparse_matrix_x, sparse_matrix_y)\n",
    "\n",
    "print(ni)"
   ]
  }
 ],
 "metadata": {
  "kernelspec": {
   "display_name": "laby",
   "language": "python",
   "name": "python3"
  },
  "language_info": {
   "codemirror_mode": {
    "name": "ipython",
    "version": 3
   },
   "file_extension": ".py",
   "mimetype": "text/x-python",
   "name": "python",
   "nbconvert_exporter": "python",
   "pygments_lexer": "ipython3",
   "version": "3.11.8"
  }
 },
 "nbformat": 4,
 "nbformat_minor": 2
}
